{
 "cells": [
  {
   "cell_type": "markdown",
   "metadata": {},
   "source": [
    "# SOLVE EQUATIONS = RESOLVER ECUACIONES"
   ]
  },
  {
   "cell_type": "code",
   "execution_count": 1,
   "metadata": {},
   "outputs": [
    {
     "name": "stdout",
     "output_type": "stream",
     "text": [
      "ingresa la ecuacion a evaluar: ee+fg+j\n",
      "ingresa ee: 3\n",
      "ingresa fg: 4\n",
      "ingresa j: 5\n"
     ]
    },
    {
     "data": {
      "text/plain": [
       "12.0"
      ]
     },
     "execution_count": 1,
     "metadata": {},
     "output_type": "execute_result"
    }
   ],
   "source": [
    "'''\n",
    "Created dec 30, 2021\n",
    "last updated jan 02, 2022\n",
    "\n",
    "@author: E1N1K0\n",
    "\n",
    "'''\n",
    "def resolver_ecuacion():                            \n",
    "    ecuacion_ingresada = str(input('ingresa la ecuacion a evaluar: '))                              # Solicita ingresar una ecuacion.\n",
    "    ecuacion_espacio = ''.join([i  if i.isalnum() == True\n",
    "                                   else '' if i == ' ' or i == '_' \n",
    "                                   else ' ' + i + ' ' for i in ecuacion_ingresada])                 # Agrega espacios requeridos para separar terminos y simbolos.\n",
    "    ecuacion_elevado = ecuacion_espacio.replace('*  *','**')                                        # Resuelve el problema de separar los **.\n",
    "    asignacion = []                                                                                 # Prepara la lista vacia.\n",
    "    variables = [i for i in set(ecuacion_elevado.split()) if i.isalpha() == True]                   # Separa el string (tipo palabra) y deja solo las variables unicas (con set).\n",
    "    valores = [asignacion.append(float(input('ingresa ' + i + ': '))) for i in variables]           # Solicita asignar valores de las variables.\n",
    "    diccionario = {variables[i]:asignacion[i] for i in range(len(variables))}                       # Almacena los valores asignados en un diccionario (solo los valores).\n",
    "    solucion = [diccionario[i] if i.isalpha() == True \n",
    "                               else i for i in ecuacion_elevado.split()]                            # Almacena los valores asignados en diccionario (incorpora simbolos).   \n",
    "    resultado = ' '.join(map(str,solucion))                                                         # Convierte a string!\n",
    "    return eval(resultado)                                                                          # Calcula el string!\n",
    "\n",
    "# EJECUCION:\n",
    "resolver_ecuacion()  \n",
    "\n",
    "# y = a + b * x     => escribe solo a + b * x; asigna 1,2,3 resultado = 7\n",
    "# Area_triangulo, At = base * altura / 2; asigna 2, 4 => resultado = 4\n",
    "# ecuacion cubica, y = A + B * x + C * x ** 2 + D * x ** 3, asigna 1,2,3,4,5,6 => resultado = 54\n",
    "# exponente = y = 2 ** x, asigna 2, resultado = 2\n",
    "\n",
    "# Debería poder superar este ejemplo:\n",
    "# largo_linea (MM1) = (ritmo_llegadas**2)/(ritmo_servicio*(ritmo_servicio-ritmo_llegadas)); asigna: ritmo_llegadas = 15 persona/h, ritmo_servicio = 20 persona/h => resultado"
   ]
  },
  {
   "cell_type": "code",
   "execution_count": null,
   "metadata": {},
   "outputs": [],
   "source": []
  }
 ],
 "metadata": {
  "kernelspec": {
   "display_name": "Python 3 (ipykernel)",
   "language": "python",
   "name": "python3"
  },
  "language_info": {
   "codemirror_mode": {
    "name": "ipython",
    "version": 3
   },
   "file_extension": ".py",
   "mimetype": "text/x-python",
   "name": "python",
   "nbconvert_exporter": "python",
   "pygments_lexer": "ipython3",
   "version": "3.8.10"
  }
 },
 "nbformat": 4,
 "nbformat_minor": 4
}
